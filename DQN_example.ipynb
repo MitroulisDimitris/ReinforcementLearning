{
 "cells": [
  {
   "cell_type": "code",
   "execution_count": 1,
   "metadata": {},
   "outputs": [],
   "source": [
    "import requests\n",
    "import json\n",
    "import gymnasium as gym\n",
    "import stable_baselines3 as stb\n",
    "import torch \n",
    "from torch import nn\n",
    "import torch.optim as optim\n",
    "import numpy as np\n",
    "import random\n",
    "from collections import deque"
   ]
  },
  {
   "cell_type": "code",
   "execution_count": 6,
   "metadata": {},
   "outputs": [
    {
     "name": "stdout",
     "output_type": "stream",
     "text": [
      "False\n",
      "Status Code: 200\n",
      "Response Body: {\n",
      "  \"done\": false,\n",
      "  \"info\": {},\n",
      "  \"observation\": [\n",
      "    0,\n",
      "    0\n",
      "  ],\n",
      "  \"reward\": -1,\n",
      "  \"truncated\": false\n",
      "}\n",
      "\n"
     ]
    }
   ],
   "source": [
    "def get_info(response):\n",
    "    done = response.json().get('done')\n",
    "    info = response.json().get('info')\n",
    "    observation = response.json().get('observation')\n",
    "    reward = response.json().get('reward')\n",
    "    trunc = response.json().get('trunc')\n",
    "    return done,info,observation,reward,trunc\n",
    "    \n",
    "\n",
    "# Define URL, headers\n",
    "new_game = \"http://18.185.60.20:5005/new_game\"\n",
    "\n",
    "headers = {\n",
    "    'Content-Type': 'application/json'\n",
    "    }\n",
    "\n",
    "\n",
    "\n",
    "# get uuid from response\n",
    "response = requests.post(new_game, headers=headers)\n",
    "uuid = response.json().get('uuid')\n",
    "\n",
    "\n",
    "step = \"http://18.185.60.20:5005/step/\"+uuid\n",
    "reset = \"http://18.185.60.20:5005/reset/\"+uuid\n",
    "\n",
    "response = requests.post(reset, headers=headers)\n",
    "\n",
    "\n",
    "#content = {\n",
    "    #'action': 1\n",
    "    #}\n",
    "#response = requests.post(step,json=content,headers=headers)\n",
    "\n",
    "done,info,observation,reward,trunc = get_info(response)\n",
    "\n",
    "\n",
    "\n",
    "\n",
    "print(\"Status Code:\", response.status_code)\n",
    "print(\"Response Body:\", response.text)  \n",
    "\n",
    "\n"
   ]
  }
 ],
 "metadata": {
  "kernelspec": {
   "display_name": "Python 3",
   "language": "python",
   "name": "python3"
  },
  "language_info": {
   "codemirror_mode": {
    "name": "ipython",
    "version": 3
   },
   "file_extension": ".py",
   "mimetype": "text/x-python",
   "name": "python",
   "nbconvert_exporter": "python",
   "pygments_lexer": "ipython3",
   "version": "3.10.6"
  }
 },
 "nbformat": 4,
 "nbformat_minor": 2
}
